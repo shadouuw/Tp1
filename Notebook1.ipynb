{
 "cells": [
  {
   "cell_type": "markdown",
   "metadata": {},
   "source": [
    "<p style=\"font-family: Arial; font-size:1.75em;color:blue; font-style:bold\"><br>\n",
    "Présentation de Pandas</p><br>\n",
    "pandas est une bibliothèque Python pour l'analyse de données. Il propose un certain nombre d'opérations d'exploration, de nettoyage et de transformation des données qui sont essentielles pour travailler avec des données en Python.\n",
    "\n",
    "pandas s'appuie sur  numpy et scipy  fournissant des structures de données et des fonctions de manipulation de données faciles à utiliser avec indexation intégrée.\n",
    "\n",
    "Les principales structures de données fournies par pandas sont Series et  DataFrames. Après une brève introduction à ces deux structures de données et à l'ingestion de données, les principales caractéristiques de pandas sont les suivantes:\n",
    "* Génération de statistiques descriptives sur les données\n",
    "* Nettoyage des données à l'aide des fonctions pandas intégrées\n",
    "* Opérations de données fréquentes pour le sous-ensemble, le filtrage, l'insertion, la suppression et l'agrégation de données\n",
    "* Fusion(merging) de plusieurs ensembles de données à l'aide de dataframes\n",
    "\n",
    "**Resources:**\n",
    "* *pandas* Documentation: http://pandas.pydata.org/pandas-docs/stable/\n",
    "* *Python for Data Analysis* by Wes McKinney\n",
    "* *Python Data Science Handbook* by Jake VanderPlas\n"
   ]
  },
  {
   "cell_type": "markdown",
   "metadata": {},
   "source": [
    "Attention: `pandas` est une bibliothèque qui évolue régulièrement, on vous recommande donc d'utiliser au moins `pandas` dans sa version 1.0.5."
   ]
  },
  {
   "cell_type": "code",
   "execution_count": 46,
   "metadata": {},
   "outputs": [
    {
     "name": "stdout",
     "output_type": "stream",
     "text": [
      "La version de numpy est 1.21.2\n",
      "La version de pandas est 1.3.3\n"
     ]
    }
   ],
   "source": [
    "import numpy as np\n",
    "#Pour afficher la version de  numpy\n",
    "print(f'La version de numpy est {np.__version__}')\n",
    "import pandas as pd\n",
    "# Pour afficher la version de pandas\n",
    "print(f'La version de pandas est {pd.__version__}')"
   ]
  },
  {
   "cell_type": "markdown",
   "metadata": {},
   "source": [
    "#### Les structures de données en `pandas`"
   ]
  },
  {
   "cell_type": "code",
   "metadata": {
    "pycharm": {
     "name": "#%%\n"
    }
   },
   "source": [
    "\n",
    "age = pd.Series([2,3,7,5],index=['a','b','c','d'])\n",
    "\n",
    "\n",
    "print(age)\n",
    "\n",
    "taille = pd.Series([11,33,66,44],index=['a','b','c','d'])\n",
    "print(type(taille));\n",
    "\n",
    "#Vous pouvez bien sûr vous demander à quoi cela sert, alors regardons un petit exemple. Nous allons revenir sur les notions utilisées dans cet exemple, notre but ici est de vous montrer l'utilité de `pandas` sur un exemple."
   ],
   "execution_count": 47,
   "outputs": [
    {
     "name": "stdout",
     "output_type": "stream",
     "text": [
      "a    2\n",
      "b    3\n",
      "c    7\n",
      "d    5\n",
      "dtype: int64\n",
      "<class 'pandas.core.series.Series'>\n"
     ]
    }
   ]
  },
  {
   "cell_type": "code",
   "metadata": {
    "pycharm": {
     "name": "#%%\n"
    }
   },
   "source": [
    "stat = pd.DataFrame({'age' : age , 'taille ' : taille });\n",
    "print(stat);\n",
    "#Vous voyez qu'en quelques requêtes simples et intuitives, on peut grâce à la notion d'index, obtenir des informations précieuses sur nos données. Vous voyez qu'en l'occurrence, travailler directement sur le tableau `numpy` aurait été beaucoup moins aisé."
   ],
   "execution_count": 48,
   "outputs": [
    {
     "name": "stdout",
     "output_type": "stream",
     "text": [
      "   age  taille \n",
      "a    2       11\n",
      "b    3       33\n",
      "c    7       66\n",
      "d    5       44\n"
     ]
    }
   ]
  },
  {
   "cell_type": "markdown",
   "metadata": {},
   "source": [
    "## Création d'une `DataFrame`\n",
    "Il y a de nombreuses manières de construire une `DataFrame`."
   ]
  },
  {
   "cell_type": "markdown",
   "metadata": {},
   "source": [
    "### Création d'une DataFrame avec des séries"
   ]
  },
  {
   "cell_type": "code",
   "execution_count": 49,
   "metadata": {},
   "outputs": [],
   "source": [
    "# Regardons la construction d'une DataFrame\n",
    "\n",
    "# Créons une Series pour définir des âges\n",
    "\n",
    "# et une Series pour définir des tailles\n"
   ]
  },
  {
   "cell_type": "markdown",
   "metadata": {},
   "source": [
    "On peut maintenant combiner ces deux Series en DataFrame, chaque Serie définissant une colonne, une manière de le faire est\n",
    "de définir un dictionnaire qui contient pour clé le nom de la colonne et pour valeur la Serie correspondante\n"
   ]
  },
  {
   "cell_type": "markdown",
   "metadata": {},
   "source": [
    "### Création d'une DataFrame avec un dictionnaire"
   ]
  },
  {
   "cell_type": "code",
   "execution_count": 49,
   "metadata": {},
   "outputs": [],
   "source": []
  },
  {
   "cell_type": "markdown",
   "metadata": {},
   "source": [
    "On remarque que `pandas` fait automatiquement l'alignement des index, lorsqu'une valeur n'est pas présente, elle est automatiquement remplacée par `NaN`. `Pandas` va également broadcaster une valeur unique définissant une colonne sur toutes les lignes. Regardons cela :"
   ]
  },
  {
   "cell_type": "code",
   "execution_count": 49,
   "metadata": {},
   "outputs": [],
   "source": []
  },
  {
   "cell_type": "markdown",
   "metadata": {},
   "source": [
    "On peut maintenant accéder aux index des lignes et des colonnes"
   ]
  },
  {
   "cell_type": "code",
   "execution_count": 50,
   "metadata": {},
   "outputs": [
    {
     "name": "stdout",
     "output_type": "stream",
     "text": [
      "Index(['a', 'b', 'c', 'd'], dtype='object')\n"
     ]
    }
   ],
   "source": [
    "print(stat.index)\n",
    "\n",
    "# l'index des lignes\n"
   ]
  },
  {
   "cell_type": "code",
   "execution_count": 51,
   "metadata": {},
   "outputs": [
    {
     "name": "stdout",
     "output_type": "stream",
     "text": [
      "Index(['age', 'taille '], dtype='object')\n"
     ]
    }
   ],
   "source": [
    "# l'index des colonnes\n",
    "\n",
    "print(stat.columns)"
   ]
  },
  {
   "cell_type": "code",
   "execution_count": 51,
   "metadata": {},
   "outputs": [],
   "source": []
  },
  {
   "cell_type": "markdown",
   "metadata": {},
   "source": [
    "Il y a de nombreuses manières d'accéder aux éléments de la `DataFrame`, certaines sont bonnes et d'autres à proscrire, commençons par prendre de bonnes habitudes. Comme il s'agit d'une structure à deux dimensions, il faut donner un indice de ligne et de colonne :"
   ]
  },
  {
   "cell_type": "code",
   "execution_count": 52,
   "metadata": {},
   "outputs": [
    {
     "name": "stdout",
     "output_type": "stream",
     "text": [
      "4.25\n"
     ]
    }
   ],
   "source": [
    "# Quel est la moyenne de tous les âges avec loc\n",
    "\n",
    "moy=stat.loc['a' : 'd','age' ].mean()\n",
    "print(moy)\n"
   ]
  },
  {
   "cell_type": "code",
   "execution_count": 53,
   "metadata": {},
   "outputs": [],
   "source": [
    "# Quel est la moyenne de tous les âges avec loc\n"
   ]
  },
  {
   "cell_type": "code",
   "execution_count": 54,
   "metadata": {},
   "outputs": [],
   "source": [
    "# Quel est la moyenne de tous les âges avec iloc\n"
   ]
  },
  {
   "cell_type": "markdown",
   "metadata": {},
   "source": [
    "### Création d'une DataFrame avec des array"
   ]
  },
  {
   "cell_type": "code",
   "metadata": {
    "pycharm": {
     "name": "#%%\n"
    }
   },
   "source": [
    "a=np.random.randint(1,10,9).reshape(3,3)\n",
    "print(a)\n",
    "s=pd.DataFrame(data = a ,columns=['a','b','c'])\n",
    "print(s)\n",
    "\n",
    "#Une autre manière de construire une `DataFrame` est de partir d'un `array` de `numpy`, et de spécifier les index pour les lignes et les colonnes avec les arguments `index` et `columns` :\n"
   ],
   "execution_count": 55,
   "outputs": [
    {
     "name": "stdout",
     "output_type": "stream",
     "text": [
      "[[7 7 2]\n",
      " [2 2 2]\n",
      " [7 1 5]]\n",
      "   a  b  c\n",
      "0  7  7  2\n",
      "1  2  2  2\n",
      "2  7  1  5\n"
     ]
    }
   ]
  },
  {
   "cell_type": "code",
   "execution_count": 55,
   "metadata": {},
   "outputs": [],
   "source": []
  },
  {
   "cell_type": "markdown",
   "metadata": {},
   "source": [
    "<p style=\"font-family: Arial; font-size:1.9em;color:blue; font-style:bold\"><br>\n",
    "Cas d'étude: Base de données Titanic</p><br>"
   ]
  },
  {
   "cell_type": "markdown",
   "metadata": {},
   "source": [
    "##  Charger vos données dans une DataFrame Pandas\n",
    "Les options les plus courantes :\n",
    "- read_\n",
    "- read_excel"
   ]
  },
  {
   "cell_type": "markdown",
   "metadata": {},
   "source": [
    "Importer l'ensemble de données avec read_"
   ]
  },
  {
   "cell_type": "code",
   "execution_count": 56,
   "metadata": {},
   "outputs": [],
   "source": [
    "# Charger la base de données titatnic et l'affecter à la variable data\n",
    "data=pd.read_('titanic.');"
   ]
  },
  {
   "cell_type": "code",
   "execution_count": 57,
   "metadata": {},
   "outputs": [
    {
     "data": {
      "text/plain": "(1309, 11)"
     },
     "execution_count": 57,
     "metadata": {},
     "output_type": "execute_result"
    }
   ],
   "source": [
    "\n",
    "\n",
    "# Pour afficher le nombre de lignes et de colonnes\n",
    "data.shape"
   ]
  },
  {
   "cell_type": "markdown",
   "metadata": {},
   "source": [
    "Vérification des premiers éléments de DataFrame avec la méthode .head ()"
   ]
  },
  {
   "cell_type": "code",
   "execution_count": 58,
   "metadata": {},
   "outputs": [
    {
     "data": {
      "text/plain": "<bound method NDFrame.head of       pclass  survived                                             name  \\\n0          1         1                    Allen, Miss. Elisabeth Walton   \n1          1         1                   Allison, Master. Hudson Trevor   \n2          1         0                     Allison, Miss. Helen Loraine   \n3          1         0             Allison, Mr. Hudson Joshua Creighton   \n4          1         0  Allison, Mrs. Hudson J C (Bessie Waldo Daniels)   \n...      ...       ...                                              ...   \n1304       3         0                             Zabour, Miss. Hileni   \n1305       3         0                            Zabour, Miss. Thamine   \n1306       3         0                        Zakarian, Mr. Mapriededer   \n1307       3         0                              Zakarian, Mr. Ortin   \n1308       3         0                               Zimmerman, Mr. Leo   \n\n         sex      age  sibsp  parch  ticket      fare    cabin embarked  \n0     female  29.0000      0      0   24160  211.3375       B5        S  \n1       male   0.9167      1      2  113781  151.5500  C22 C26        S  \n2     female   2.0000      1      2  113781  151.5500  C22 C26        S  \n3       male  30.0000      1      2  113781  151.5500  C22 C26        S  \n4     female  25.0000      1      2  113781  151.5500  C22 C26        S  \n...      ...      ...    ...    ...     ...       ...      ...      ...  \n1304  female  14.5000      1      0    2665   14.4542      NaN        C  \n1305  female      NaN      1      0    2665   14.4542      NaN        C  \n1306    male  26.5000      0      0    2656    7.2250      NaN        C  \n1307    male  27.0000      0      0    2670    7.2250      NaN        C  \n1308    male  29.0000      0      0  315082    7.8750      NaN        S  \n\n[1309 rows x 11 columns]>"
     },
     "execution_count": 58,
     "metadata": {},
     "output_type": "execute_result"
    }
   ],
   "source": [
    "# head() affiche les 5 premières lignes. \n",
    "#Pour voir moins ou plusieurs lignes, passer un entier, par exemple: head(10)\n",
    "data.head"
   ]
  },
  {
   "cell_type": "markdown",
   "metadata": {},
   "source": [
    "Vérification des derniers éléments de DataFrame avec la méthode .tail ()"
   ]
  },
  {
   "cell_type": "code",
   "execution_count": 59,
   "metadata": {},
   "outputs": [
    {
     "data": {
      "text/plain": "<bound method NDFrame.tail of       pclass  survived                                             name  \\\n0          1         1                    Allen, Miss. Elisabeth Walton   \n1          1         1                   Allison, Master. Hudson Trevor   \n2          1         0                     Allison, Miss. Helen Loraine   \n3          1         0             Allison, Mr. Hudson Joshua Creighton   \n4          1         0  Allison, Mrs. Hudson J C (Bessie Waldo Daniels)   \n...      ...       ...                                              ...   \n1304       3         0                             Zabour, Miss. Hileni   \n1305       3         0                            Zabour, Miss. Thamine   \n1306       3         0                        Zakarian, Mr. Mapriededer   \n1307       3         0                              Zakarian, Mr. Ortin   \n1308       3         0                               Zimmerman, Mr. Leo   \n\n         sex      age  sibsp  parch  ticket      fare    cabin embarked  \n0     female  29.0000      0      0   24160  211.3375       B5        S  \n1       male   0.9167      1      2  113781  151.5500  C22 C26        S  \n2     female   2.0000      1      2  113781  151.5500  C22 C26        S  \n3       male  30.0000      1      2  113781  151.5500  C22 C26        S  \n4     female  25.0000      1      2  113781  151.5500  C22 C26        S  \n...      ...      ...    ...    ...     ...       ...      ...      ...  \n1304  female  14.5000      1      0    2665   14.4542      NaN        C  \n1305  female      NaN      1      0    2665   14.4542      NaN        C  \n1306    male  26.5000      0      0    2656    7.2250      NaN        C  \n1307    male  27.0000      0      0    2670    7.2250      NaN        C  \n1308    male  29.0000      0      0  315082    7.8750      NaN        S  \n\n[1309 rows x 11 columns]>"
     },
     "execution_count": 59,
     "metadata": {},
     "output_type": "execute_result"
    }
   ],
   "source": [
    "data.tail\n",
    "# tail() affiche les 5 dernières lignes. \n",
    "#Pour voir moins ou plusieurs lignes, passer un entier, par exemple: tail(3)"
   ]
  },
  {
   "cell_type": "code",
   "execution_count": 60,
   "metadata": {},
   "outputs": [
    {
     "data": {
      "text/plain": "   pclass  survived                                             name     sex  \\\n0       1         1                    Allen, Miss. Elisabeth Walton  female   \n1       1         1                   Allison, Master. Hudson Trevor    male   \n2       1         0                     Allison, Miss. Helen Loraine  female   \n3       1         0             Allison, Mr. Hudson Joshua Creighton    male   \n4       1         0  Allison, Mrs. Hudson J C (Bessie Waldo Daniels)  female   \n\n       age  sibsp  parch  ticket      fare    cabin embarked  \n0  29.0000      0      0   24160  211.3375       B5        S  \n1   0.9167      1      2  113781  151.5500  C22 C26        S  \n2   2.0000      1      2  113781  151.5500  C22 C26        S  \n3  30.0000      1      2  113781  151.5500  C22 C26        S  \n4  25.0000      1      2  113781  151.5500  C22 C26        S  ",
      "text/html": "<div>\n<style scoped>\n    .dataframe tbody tr th:only-of-type {\n        vertical-align: middle;\n    }\n\n    .dataframe tbody tr th {\n        vertical-align: top;\n    }\n\n    .dataframe thead th {\n        text-align: right;\n    }\n</style>\n<table border=\"1\" class=\"dataframe\">\n  <thead>\n    <tr style=\"text-align: right;\">\n      <th></th>\n      <th>pclass</th>\n      <th>survived</th>\n      <th>name</th>\n      <th>sex</th>\n      <th>age</th>\n      <th>sibsp</th>\n      <th>parch</th>\n      <th>ticket</th>\n      <th>fare</th>\n      <th>cabin</th>\n      <th>embarked</th>\n    </tr>\n  </thead>\n  <tbody>\n    <tr>\n      <th>0</th>\n      <td>1</td>\n      <td>1</td>\n      <td>Allen, Miss. Elisabeth Walton</td>\n      <td>female</td>\n      <td>29.0000</td>\n      <td>0</td>\n      <td>0</td>\n      <td>24160</td>\n      <td>211.3375</td>\n      <td>B5</td>\n      <td>S</td>\n    </tr>\n    <tr>\n      <th>1</th>\n      <td>1</td>\n      <td>1</td>\n      <td>Allison, Master. Hudson Trevor</td>\n      <td>male</td>\n      <td>0.9167</td>\n      <td>1</td>\n      <td>2</td>\n      <td>113781</td>\n      <td>151.5500</td>\n      <td>C22 C26</td>\n      <td>S</td>\n    </tr>\n    <tr>\n      <th>2</th>\n      <td>1</td>\n      <td>0</td>\n      <td>Allison, Miss. Helen Loraine</td>\n      <td>female</td>\n      <td>2.0000</td>\n      <td>1</td>\n      <td>2</td>\n      <td>113781</td>\n      <td>151.5500</td>\n      <td>C22 C26</td>\n      <td>S</td>\n    </tr>\n    <tr>\n      <th>3</th>\n      <td>1</td>\n      <td>0</td>\n      <td>Allison, Mr. Hudson Joshua Creighton</td>\n      <td>male</td>\n      <td>30.0000</td>\n      <td>1</td>\n      <td>2</td>\n      <td>113781</td>\n      <td>151.5500</td>\n      <td>C22 C26</td>\n      <td>S</td>\n    </tr>\n    <tr>\n      <th>4</th>\n      <td>1</td>\n      <td>0</td>\n      <td>Allison, Mrs. Hudson J C (Bessie Waldo Daniels)</td>\n      <td>female</td>\n      <td>25.0000</td>\n      <td>1</td>\n      <td>2</td>\n      <td>113781</td>\n      <td>151.5500</td>\n      <td>C22 C26</td>\n      <td>S</td>\n    </tr>\n  </tbody>\n</table>\n</div>"
     },
     "execution_count": 60,
     "metadata": {},
     "output_type": "execute_result"
    }
   ],
   "source": [
    "#data\n",
    "data.head(5)"
   ]
  },
  {
   "cell_type": "code",
   "execution_count": 62,
   "metadata": {},
   "outputs": [
    {
     "data": {
      "text/plain": "      pclass  survived                            name     sex      age  \\\n0          1         1   Allen, Miss. Elisabeth Walton  female  29.0000   \n1          1         1  Allison, Master. Hudson Trevor    male   0.9167   \n...      ...       ...                             ...     ...      ...   \n1307       3         0             Zakarian, Mr. Ortin    male  27.0000   \n1308       3         0              Zimmerman, Mr. Leo    male  29.0000   \n\n      sibsp  parch  ticket      fare    cabin embarked  \n0         0      0   24160  211.3375       B5        S  \n1         1      2  113781  151.5500  C22 C26        S  \n...     ...    ...     ...       ...      ...      ...  \n1307      0      0    2670    7.2250      NaN        C  \n1308      0      0  315082    7.8750      NaN        S  \n\n[1309 rows x 11 columns]",
      "text/html": "<div>\n<style scoped>\n    .dataframe tbody tr th:only-of-type {\n        vertical-align: middle;\n    }\n\n    .dataframe tbody tr th {\n        vertical-align: top;\n    }\n\n    .dataframe thead th {\n        text-align: right;\n    }\n</style>\n<table border=\"1\" class=\"dataframe\">\n  <thead>\n    <tr style=\"text-align: right;\">\n      <th></th>\n      <th>pclass</th>\n      <th>survived</th>\n      <th>name</th>\n      <th>sex</th>\n      <th>age</th>\n      <th>sibsp</th>\n      <th>parch</th>\n      <th>ticket</th>\n      <th>fare</th>\n      <th>cabin</th>\n      <th>embarked</th>\n    </tr>\n  </thead>\n  <tbody>\n    <tr>\n      <th>0</th>\n      <td>1</td>\n      <td>1</td>\n      <td>Allen, Miss. Elisabeth Walton</td>\n      <td>female</td>\n      <td>29.0000</td>\n      <td>0</td>\n      <td>0</td>\n      <td>24160</td>\n      <td>211.3375</td>\n      <td>B5</td>\n      <td>S</td>\n    </tr>\n    <tr>\n      <th>1</th>\n      <td>1</td>\n      <td>1</td>\n      <td>Allison, Master. Hudson Trevor</td>\n      <td>male</td>\n      <td>0.9167</td>\n      <td>1</td>\n      <td>2</td>\n      <td>113781</td>\n      <td>151.5500</td>\n      <td>C22 C26</td>\n      <td>S</td>\n    </tr>\n    <tr>\n      <th>...</th>\n      <td>...</td>\n      <td>...</td>\n      <td>...</td>\n      <td>...</td>\n      <td>...</td>\n      <td>...</td>\n      <td>...</td>\n      <td>...</td>\n      <td>...</td>\n      <td>...</td>\n      <td>...</td>\n    </tr>\n    <tr>\n      <th>1307</th>\n      <td>3</td>\n      <td>0</td>\n      <td>Zakarian, Mr. Ortin</td>\n      <td>male</td>\n      <td>27.0000</td>\n      <td>0</td>\n      <td>0</td>\n      <td>2670</td>\n      <td>7.2250</td>\n      <td>NaN</td>\n      <td>C</td>\n    </tr>\n    <tr>\n      <th>1308</th>\n      <td>3</td>\n      <td>0</td>\n      <td>Zimmerman, Mr. Leo</td>\n      <td>male</td>\n      <td>29.0000</td>\n      <td>0</td>\n      <td>0</td>\n      <td>315082</td>\n      <td>7.8750</td>\n      <td>NaN</td>\n      <td>S</td>\n    </tr>\n  </tbody>\n</table>\n<p>1309 rows × 11 columns</p>\n</div>"
     },
     "execution_count": 62,
     "metadata": {},
     "output_type": "execute_result"
    }
   ],
   "source": [
    "# on peut gérer l'affichage de données grace à la methode set_option (afficher toutes les lignes )\n",
    "pd.set_option('max_rows',4)\n",
    "data"
   ]
  },
  {
   "cell_type": "code",
   "execution_count": null,
   "metadata": {},
   "outputs": [],
   "source": [
    "#data"
   ]
  },
  {
   "cell_type": "code",
   "execution_count": 67,
   "metadata": {},
   "outputs": [
    {
     "data": {
      "text/plain": "      pclass  survived                            name     sex      age  \\\n0          1         1   Allen, Miss. Elisabeth Walton  female  29.0000   \n1          1         1  Allison, Master. Hudson Trevor    male   0.9167   \n...      ...       ...                             ...     ...      ...   \n1307       3         0             Zakarian, Mr. Ortin    male  27.0000   \n1308       3         0              Zimmerman, Mr. Leo    male  29.0000   \n\n      sibsp  parch  ticket      fare    cabin embarked  \n0         0      0   24160  211.3375       B5        S  \n1         1      2  113781  151.5500  C22 C26        S  \n...     ...    ...     ...       ...      ...      ...  \n1307      0      0    2670    7.2250      NaN        C  \n1308      0      0  315082    7.8750      NaN        S  \n\n[1309 rows x 11 columns]",
      "text/html": "<div>\n<style scoped>\n    .dataframe tbody tr th:only-of-type {\n        vertical-align: middle;\n    }\n\n    .dataframe tbody tr th {\n        vertical-align: top;\n    }\n\n    .dataframe thead th {\n        text-align: right;\n    }\n</style>\n<table border=\"1\" class=\"dataframe\">\n  <thead>\n    <tr style=\"text-align: right;\">\n      <th></th>\n      <th>pclass</th>\n      <th>survived</th>\n      <th>name</th>\n      <th>sex</th>\n      <th>age</th>\n      <th>sibsp</th>\n      <th>parch</th>\n      <th>ticket</th>\n      <th>fare</th>\n      <th>cabin</th>\n      <th>embarked</th>\n    </tr>\n  </thead>\n  <tbody>\n    <tr>\n      <th>0</th>\n      <td>1</td>\n      <td>1</td>\n      <td>Allen, Miss. Elisabeth Walton</td>\n      <td>female</td>\n      <td>29.0000</td>\n      <td>0</td>\n      <td>0</td>\n      <td>24160</td>\n      <td>211.3375</td>\n      <td>B5</td>\n      <td>S</td>\n    </tr>\n    <tr>\n      <th>1</th>\n      <td>1</td>\n      <td>1</td>\n      <td>Allison, Master. Hudson Trevor</td>\n      <td>male</td>\n      <td>0.9167</td>\n      <td>1</td>\n      <td>2</td>\n      <td>113781</td>\n      <td>151.5500</td>\n      <td>C22 C26</td>\n      <td>S</td>\n    </tr>\n    <tr>\n      <th>...</th>\n      <td>...</td>\n      <td>...</td>\n      <td>...</td>\n      <td>...</td>\n      <td>...</td>\n      <td>...</td>\n      <td>...</td>\n      <td>...</td>\n      <td>...</td>\n      <td>...</td>\n      <td>...</td>\n    </tr>\n    <tr>\n      <th>1307</th>\n      <td>3</td>\n      <td>0</td>\n      <td>Zakarian, Mr. Ortin</td>\n      <td>male</td>\n      <td>27.0000</td>\n      <td>0</td>\n      <td>0</td>\n      <td>2670</td>\n      <td>7.2250</td>\n      <td>NaN</td>\n      <td>C</td>\n    </tr>\n    <tr>\n      <th>1308</th>\n      <td>3</td>\n      <td>0</td>\n      <td>Zimmerman, Mr. Leo</td>\n      <td>male</td>\n      <td>29.0000</td>\n      <td>0</td>\n      <td>0</td>\n      <td>315082</td>\n      <td>7.8750</td>\n      <td>NaN</td>\n      <td>S</td>\n    </tr>\n  </tbody>\n</table>\n<p>1309 rows × 11 columns</p>\n</div>"
     },
     "execution_count": 67,
     "metadata": {},
     "output_type": "execute_result"
    }
   ],
   "source": [
    "pd.set_option('precision',6)\n",
    "data\n",
    "# fixer le nombre de lignes à afficher avec la méthode set_option\n"
   ]
  },
  {
   "cell_type": "markdown",
   "metadata": {},
   "source": [
    "## Avoir des informations sur la base de données avec les méthodes: .info() et .describe() "
   ]
  },
  {
   "cell_type": "code",
   "metadata": {
    "pycharm": {
     "name": "#%%\n"
    }
   },
   "source": [
    "### Méthode .info ()\n",
    "#Cette méthode retourne des informations sur une DataFrame, y compris les dtypes d'index et de colonne, les valeurs non nulles et l'utilisation de la mémoire.\n",
    "data.info()"
   ],
   "execution_count": 69,
   "outputs": [
    {
     "name": "stdout",
     "output_type": "stream",
     "text": [
      "<class 'pandas.core.frame.DataFrame'>\n",
      "RangeIndex: 1309 entries, 0 to 1308\n",
      "Data columns (total 11 columns):\n",
      " #   Column    Non-Null Count  Dtype  \n",
      "---  ------    --------------  -----  \n",
      " 0   pclass    1309 non-null   int64  \n",
      " 1   survived  1309 non-null   int64  \n",
      " 2   name      1309 non-null   object \n",
      " 3   sex       1309 non-null   object \n",
      " 4   age       1046 non-null   float64\n",
      " 5   sibsp     1309 non-null   int64  \n",
      " 6   parch     1309 non-null   int64  \n",
      " 7   ticket    1309 non-null   object \n",
      " 8   fare      1308 non-null   float64\n",
      " 9   cabin     295 non-null    object \n",
      " 10  embarked  1307 non-null   object \n",
      "dtypes: float64(2), int64(4), object(5)\n",
      "memory usage: 112.6+ KB\n"
     ]
    }
   ]
  },
  {
   "cell_type": "code",
   "execution_count": null,
   "metadata": {},
   "outputs": [],
   "source": [
    "# méthode info\n"
   ]
  },
  {
   "cell_type": "markdown",
   "metadata": {},
   "source": [
    "Nous pouvons également voir les types de données des colonnes avec .dtypes"
   ]
  },
  {
   "cell_type": "code",
   "execution_count": 70,
   "metadata": {},
   "outputs": [
    {
     "data": {
      "text/plain": "pclass       int64\nsurvived     int64\n             ...  \ncabin       object\nembarked    object\nLength: 11, dtype: object"
     },
     "execution_count": 70,
     "metadata": {},
     "output_type": "execute_result"
    }
   ],
   "source": [
    "data.dtypes\n",
    "# méthode dtypes\n"
   ]
  },
  {
   "cell_type": "markdown",
   "metadata": {},
   "source": [
    "### Méthode .describe ()\n",
    "Cette méthode est utilisée pour obtenir un résumé des valeurs numériques de notre base de données. Elle calcule la moyenne, l'écart type, la valeur minimale, la valeur maximale, le 1er percentile, le 2ème percentile, le 3ème percentile des colonnes avec des valeurs numériques. Elle compte également le nombre de variables dans la base de données. Ainsi, nous pourrons voir s'il y a des valeurs manquantes dans les colonnes."
   ]
  },
  {
   "cell_type": "code",
   "execution_count": 79,
   "metadata": {},
   "outputs": [
    {
     "data": {
      "text/plain": "           count       mean        std  min     25%      50%     75%       max\npclass    1309.0   2.294882   0.837836  1.0  2.0000   3.0000   3.000    3.0000\nsurvived  1309.0   0.381971   0.486055  0.0  0.0000   0.0000   1.000    1.0000\n...          ...        ...        ...  ...     ...      ...     ...       ...\nparch     1309.0   0.385027   0.865560  0.0  0.0000   0.0000   0.000    9.0000\nfare      1308.0  33.295479  51.758668  0.0  7.8958  14.4542  31.275  512.3292\n\n[6 rows x 8 columns]",
      "text/html": "<div>\n<style scoped>\n    .dataframe tbody tr th:only-of-type {\n        vertical-align: middle;\n    }\n\n    .dataframe tbody tr th {\n        vertical-align: top;\n    }\n\n    .dataframe thead th {\n        text-align: right;\n    }\n</style>\n<table border=\"1\" class=\"dataframe\">\n  <thead>\n    <tr style=\"text-align: right;\">\n      <th></th>\n      <th>count</th>\n      <th>mean</th>\n      <th>std</th>\n      <th>min</th>\n      <th>25%</th>\n      <th>50%</th>\n      <th>75%</th>\n      <th>max</th>\n    </tr>\n  </thead>\n  <tbody>\n    <tr>\n      <th>pclass</th>\n      <td>1309.0</td>\n      <td>2.294882</td>\n      <td>0.837836</td>\n      <td>1.0</td>\n      <td>2.0000</td>\n      <td>3.0000</td>\n      <td>3.000</td>\n      <td>3.0000</td>\n    </tr>\n    <tr>\n      <th>survived</th>\n      <td>1309.0</td>\n      <td>0.381971</td>\n      <td>0.486055</td>\n      <td>0.0</td>\n      <td>0.0000</td>\n      <td>0.0000</td>\n      <td>1.000</td>\n      <td>1.0000</td>\n    </tr>\n    <tr>\n      <th>...</th>\n      <td>...</td>\n      <td>...</td>\n      <td>...</td>\n      <td>...</td>\n      <td>...</td>\n      <td>...</td>\n      <td>...</td>\n      <td>...</td>\n    </tr>\n    <tr>\n      <th>parch</th>\n      <td>1309.0</td>\n      <td>0.385027</td>\n      <td>0.865560</td>\n      <td>0.0</td>\n      <td>0.0000</td>\n      <td>0.0000</td>\n      <td>0.000</td>\n      <td>9.0000</td>\n    </tr>\n    <tr>\n      <th>fare</th>\n      <td>1308.0</td>\n      <td>33.295479</td>\n      <td>51.758668</td>\n      <td>0.0</td>\n      <td>7.8958</td>\n      <td>14.4542</td>\n      <td>31.275</td>\n      <td>512.3292</td>\n    </tr>\n  </tbody>\n</table>\n<p>6 rows × 8 columns</p>\n</div>"
     },
     "execution_count": 79,
     "metadata": {},
     "output_type": "execute_result"
    }
   ],
   "source": [
    "#describe() produit un résumé des statistiques descriptives pour les valeurs numpériques pardefaut\n",
    "data.describe()"
   ]
  },
  {
   "cell_type": "code",
   "execution_count": null,
   "metadata": {},
   "outputs": [],
   "source": []
  },
  {
   "cell_type": "code",
   "execution_count": 80,
   "metadata": {},
   "outputs": [
    {
     "data": {
      "text/plain": "           count       mean        std  min     25%      50%     75%       max\npclass    1309.0   2.294882   0.837836  1.0  2.0000   3.0000   3.000    3.0000\nsurvived  1309.0   0.381971   0.486055  0.0  0.0000   0.0000   1.000    1.0000\n...          ...        ...        ...  ...     ...      ...     ...       ...\nparch     1309.0   0.385027   0.865560  0.0  0.0000   0.0000   0.000    9.0000\nfare      1308.0  33.295479  51.758668  0.0  7.8958  14.4542  31.275  512.3292\n\n[6 rows x 8 columns]",
      "text/html": "<div>\n<style scoped>\n    .dataframe tbody tr th:only-of-type {\n        vertical-align: middle;\n    }\n\n    .dataframe tbody tr th {\n        vertical-align: top;\n    }\n\n    .dataframe thead th {\n        text-align: right;\n    }\n</style>\n<table border=\"1\" class=\"dataframe\">\n  <thead>\n    <tr style=\"text-align: right;\">\n      <th></th>\n      <th>count</th>\n      <th>mean</th>\n      <th>std</th>\n      <th>min</th>\n      <th>25%</th>\n      <th>50%</th>\n      <th>75%</th>\n      <th>max</th>\n    </tr>\n  </thead>\n  <tbody>\n    <tr>\n      <th>pclass</th>\n      <td>1309.0</td>\n      <td>2.294882</td>\n      <td>0.837836</td>\n      <td>1.0</td>\n      <td>2.0000</td>\n      <td>3.0000</td>\n      <td>3.000</td>\n      <td>3.0000</td>\n    </tr>\n    <tr>\n      <th>survived</th>\n      <td>1309.0</td>\n      <td>0.381971</td>\n      <td>0.486055</td>\n      <td>0.0</td>\n      <td>0.0000</td>\n      <td>0.0000</td>\n      <td>1.000</td>\n      <td>1.0000</td>\n    </tr>\n    <tr>\n      <th>...</th>\n      <td>...</td>\n      <td>...</td>\n      <td>...</td>\n      <td>...</td>\n      <td>...</td>\n      <td>...</td>\n      <td>...</td>\n      <td>...</td>\n    </tr>\n    <tr>\n      <th>parch</th>\n      <td>1309.0</td>\n      <td>0.385027</td>\n      <td>0.865560</td>\n      <td>0.0</td>\n      <td>0.0000</td>\n      <td>0.0000</td>\n      <td>0.000</td>\n      <td>9.0000</td>\n    </tr>\n    <tr>\n      <th>fare</th>\n      <td>1308.0</td>\n      <td>33.295479</td>\n      <td>51.758668</td>\n      <td>0.0</td>\n      <td>7.8958</td>\n      <td>14.4542</td>\n      <td>31.275</td>\n      <td>512.3292</td>\n    </tr>\n  </tbody>\n</table>\n<p>6 rows × 8 columns</p>\n</div>"
     },
     "execution_count": 80,
     "metadata": {},
     "output_type": "execute_result"
    }
   ],
   "source": [
    "# on peut utuliser la transposé\n",
    "data.describe().T\n"
   ]
  },
  {
   "cell_type": "code",
   "execution_count": 81,
   "metadata": {},
   "outputs": [
    {
     "data": {
      "text/plain": "        pclass  survived  name   sex     age   sibsp   parch ticket  \\\ncount   1309.0    1309.0  1309  1309  1046.0  1309.0  1309.0   1309   \nunique     NaN       NaN  1307     2     NaN     NaN     NaN    929   \n...        ...       ...   ...   ...     ...     ...     ...    ...   \n75%        3.0       1.0   NaN   NaN    39.0     1.0     0.0    NaN   \nmax        3.0       1.0   NaN   NaN    80.0     8.0     9.0    NaN   \n\n             fare cabin embarked  \ncount   1308.0000   295     1307  \nunique        NaN   186        3  \n...           ...   ...      ...  \n75%       31.2750   NaN      NaN  \nmax      512.3292   NaN      NaN  \n\n[11 rows x 11 columns]",
      "text/html": "<div>\n<style scoped>\n    .dataframe tbody tr th:only-of-type {\n        vertical-align: middle;\n    }\n\n    .dataframe tbody tr th {\n        vertical-align: top;\n    }\n\n    .dataframe thead th {\n        text-align: right;\n    }\n</style>\n<table border=\"1\" class=\"dataframe\">\n  <thead>\n    <tr style=\"text-align: right;\">\n      <th></th>\n      <th>pclass</th>\n      <th>survived</th>\n      <th>name</th>\n      <th>sex</th>\n      <th>age</th>\n      <th>sibsp</th>\n      <th>parch</th>\n      <th>ticket</th>\n      <th>fare</th>\n      <th>cabin</th>\n      <th>embarked</th>\n    </tr>\n  </thead>\n  <tbody>\n    <tr>\n      <th>count</th>\n      <td>1309.0</td>\n      <td>1309.0</td>\n      <td>1309</td>\n      <td>1309</td>\n      <td>1046.0</td>\n      <td>1309.0</td>\n      <td>1309.0</td>\n      <td>1309</td>\n      <td>1308.0000</td>\n      <td>295</td>\n      <td>1307</td>\n    </tr>\n    <tr>\n      <th>unique</th>\n      <td>NaN</td>\n      <td>NaN</td>\n      <td>1307</td>\n      <td>2</td>\n      <td>NaN</td>\n      <td>NaN</td>\n      <td>NaN</td>\n      <td>929</td>\n      <td>NaN</td>\n      <td>186</td>\n      <td>3</td>\n    </tr>\n    <tr>\n      <th>...</th>\n      <td>...</td>\n      <td>...</td>\n      <td>...</td>\n      <td>...</td>\n      <td>...</td>\n      <td>...</td>\n      <td>...</td>\n      <td>...</td>\n      <td>...</td>\n      <td>...</td>\n      <td>...</td>\n    </tr>\n    <tr>\n      <th>75%</th>\n      <td>3.0</td>\n      <td>1.0</td>\n      <td>NaN</td>\n      <td>NaN</td>\n      <td>39.0</td>\n      <td>1.0</td>\n      <td>0.0</td>\n      <td>NaN</td>\n      <td>31.2750</td>\n      <td>NaN</td>\n      <td>NaN</td>\n    </tr>\n    <tr>\n      <th>max</th>\n      <td>3.0</td>\n      <td>1.0</td>\n      <td>NaN</td>\n      <td>NaN</td>\n      <td>80.0</td>\n      <td>8.0</td>\n      <td>9.0</td>\n      <td>NaN</td>\n      <td>512.3292</td>\n      <td>NaN</td>\n      <td>NaN</td>\n    </tr>\n  </tbody>\n</table>\n<p>11 rows × 11 columns</p>\n</div>"
     },
     "execution_count": 81,
     "metadata": {},
     "output_type": "execute_result"
    }
   ],
   "source": [
    "# si on veut avoir des stats pour toutes les variables numériques et catégoriques\n",
    "\n",
    "data.describe(include='all')"
   ]
  },
  {
   "cell_type": "code",
   "metadata": {
    "pycharm": {
     "name": "#%%\n"
    }
   },
   "source": [
    "## Utiliser .value_counts () pour compter le nombre d'apparition de chaque variable dans une colonne\n",
    "#Pour compter le nombre d'apparition d'une variable nous devons d'abord sélectionner la colonne. Vous pouvez sélectionner une colonne de deux manières différentes:\n",
    "data.value_counts()"
   ],
   "execution_count": 72,
   "outputs": [
    {
     "data": {
      "text/plain": "pclass  survived  name                                                 sex     age   sibsp  parch  ticket    fare      cabin    embarked\n1       0         Allison, Miss. Helen Loraine                         female  2.0   1      2      113781    151.5500  C22 C26  S           1\n        1         McGough, Mr. James Robert                            male    36.0  0      0      PC 17473  26.2875   E25      S           1\n                                                                                                                                           ..\n                  Blank, Mr. Henry                                     male    40.0  0      0      112277    31.0000   A31      C           1\n3       1         Sandstrom, Mrs. Hjalmar (Agnes Charlotta Bengtsson)  female  24.0  0      2      PP 9549   16.7000   G6       S           1\nLength: 270, dtype: int64"
     },
     "execution_count": 72,
     "metadata": {},
     "output_type": "execute_result"
    }
   ]
  },
  {
   "cell_type": "code",
   "execution_count": 82,
   "metadata": {},
   "outputs": [
    {
     "data": {
      "text/plain": "0    809\n1    500\nName: survived, dtype: int64"
     },
     "execution_count": 82,
     "metadata": {},
     "output_type": "execute_result"
    }
   ],
   "source": [
    "# deux méthode pour afficher le contenu d'une variable data.feature_name ou bien data[\"feature_name\"]\n",
    "data[\"survived\"].value_counts()"
   ]
  },
  {
   "cell_type": "code",
   "execution_count": null,
   "metadata": {},
   "outputs": [],
   "source": []
  },
  {
   "cell_type": "markdown",
   "metadata": {},
   "source": [
    "Puisque .value_counts () est une méthode, tout ce que nous avons à faire est d'ajouter cette méthode au code ci-dessus"
   ]
  },
  {
   "cell_type": "code",
   "execution_count": 84,
   "metadata": {},
   "outputs": [
    {
     "data": {
      "text/plain": "24.0000    47\n22.0000    43\n           ..\n0.6667      1\n26.5000     1\nName: age, Length: 98, dtype: int64"
     },
     "execution_count": 84,
     "metadata": {},
     "output_type": "execute_result"
    }
   ],
   "source": [
    "# méthode value_counts()\n",
    "data[\"age\"].value_counts()"
   ]
  },
  {
   "cell_type": "code",
   "execution_count": null,
   "metadata": {},
   "outputs": [],
   "source": []
  },
  {
   "cell_type": "code",
   "execution_count": null,
   "metadata": {},
   "outputs": [],
   "source": []
  },
  {
   "cell_type": "code",
   "execution_count": null,
   "metadata": {},
   "outputs": [],
   "source": []
  },
  {
   "cell_type": "markdown",
   "metadata": {},
   "source": [
    "## Groupby()\n",
    "\n",
    "L'utilisation de groupby() permet d'accéder aux sous-DataFrame associés à chaque item de la variable de regroupement.\n",
    "Il est dès lors possible d'appliquer explicitement d'autres traitements sur ces sous-ensembles de données.  Le groupby() fonctionne de la même façon que le groupby en SQL. "
   ]
  },
  {
   "cell_type": "code",
   "execution_count": 88,
   "metadata": {},
   "outputs": [
    {
     "data": {
      "text/plain": "          pclass  survived        age     sibsp     parch       fare\nsex                                                                 \nfemale  2.154506  0.727468  28.687071  0.652361  0.633047  46.198097\nmale    2.372479  0.190985  30.585233  0.413998  0.247924  26.154601",
      "text/html": "<div>\n<style scoped>\n    .dataframe tbody tr th:only-of-type {\n        vertical-align: middle;\n    }\n\n    .dataframe tbody tr th {\n        vertical-align: top;\n    }\n\n    .dataframe thead th {\n        text-align: right;\n    }\n</style>\n<table border=\"1\" class=\"dataframe\">\n  <thead>\n    <tr style=\"text-align: right;\">\n      <th></th>\n      <th>pclass</th>\n      <th>survived</th>\n      <th>age</th>\n      <th>sibsp</th>\n      <th>parch</th>\n      <th>fare</th>\n    </tr>\n    <tr>\n      <th>sex</th>\n      <th></th>\n      <th></th>\n      <th></th>\n      <th></th>\n      <th></th>\n      <th></th>\n    </tr>\n  </thead>\n  <tbody>\n    <tr>\n      <th>female</th>\n      <td>2.154506</td>\n      <td>0.727468</td>\n      <td>28.687071</td>\n      <td>0.652361</td>\n      <td>0.633047</td>\n      <td>46.198097</td>\n    </tr>\n    <tr>\n      <th>male</th>\n      <td>2.372479</td>\n      <td>0.190985</td>\n      <td>30.585233</td>\n      <td>0.413998</td>\n      <td>0.247924</td>\n      <td>26.154601</td>\n    </tr>\n  </tbody>\n</table>\n</div>"
     },
     "execution_count": 88,
     "metadata": {},
     "output_type": "execute_result"
    }
   ],
   "source": [
    "# afficher la mean en fonction du sex\n",
    "#df.groupby([feature_name]).mean()\n",
    "\n",
    "data.groupby(['sex']).mean()"
   ]
  },
  {
   "cell_type": "code",
   "execution_count": 96,
   "metadata": {},
   "outputs": [
    {
     "name": "stderr",
     "output_type": "stream",
     "text": [
      "C:\\Users\\houss\\AppData\\Local\\Temp/ipykernel_9152/1228610570.py:4: FutureWarning: Dropping invalid columns in DataFrameGroupBy.max is deprecated. In a future version, a TypeError will be raised. Before calling .max, select only columns which should be valid for the function.\n",
      "  data.groupby(['pclass' ,'sex']).max()\n"
     ]
    },
    {
     "data": {
      "text/plain": "               survived                                          name   age  \\\npclass sex                                                                    \n1      female         1                      Young, Miss. Marie Grice  76.0   \n       male           1                            Wright, Mr. George  80.0   \n...                 ...                                           ...   ...   \n3      female         1  de Messemaeker, Mrs. Guillaume Joseph (Emma)  63.0   \n       male           1                   van Melkebeke, Mr. Philemon  74.0   \n\n               sibsp  parch      ticket      fare  \npclass sex                                         \n1      female      3      4   WE/P 5735  512.3292  \n       male        3      4   WE/P 5735  512.3292  \n...              ...    ...         ...       ...  \n3      female      8      9  W./C. 6609   69.5500  \n       male        8      9  W./C. 6608   69.5500  \n\n[6 rows x 7 columns]",
      "text/html": "<div>\n<style scoped>\n    .dataframe tbody tr th:only-of-type {\n        vertical-align: middle;\n    }\n\n    .dataframe tbody tr th {\n        vertical-align: top;\n    }\n\n    .dataframe thead th {\n        text-align: right;\n    }\n</style>\n<table border=\"1\" class=\"dataframe\">\n  <thead>\n    <tr style=\"text-align: right;\">\n      <th></th>\n      <th></th>\n      <th>survived</th>\n      <th>name</th>\n      <th>age</th>\n      <th>sibsp</th>\n      <th>parch</th>\n      <th>ticket</th>\n      <th>fare</th>\n    </tr>\n    <tr>\n      <th>pclass</th>\n      <th>sex</th>\n      <th></th>\n      <th></th>\n      <th></th>\n      <th></th>\n      <th></th>\n      <th></th>\n      <th></th>\n    </tr>\n  </thead>\n  <tbody>\n    <tr>\n      <th rowspan=\"2\" valign=\"top\">1</th>\n      <th>female</th>\n      <td>1</td>\n      <td>Young, Miss. Marie Grice</td>\n      <td>76.0</td>\n      <td>3</td>\n      <td>4</td>\n      <td>WE/P 5735</td>\n      <td>512.3292</td>\n    </tr>\n    <tr>\n      <th>male</th>\n      <td>1</td>\n      <td>Wright, Mr. George</td>\n      <td>80.0</td>\n      <td>3</td>\n      <td>4</td>\n      <td>WE/P 5735</td>\n      <td>512.3292</td>\n    </tr>\n    <tr>\n      <th>...</th>\n      <th>...</th>\n      <td>...</td>\n      <td>...</td>\n      <td>...</td>\n      <td>...</td>\n      <td>...</td>\n      <td>...</td>\n      <td>...</td>\n    </tr>\n    <tr>\n      <th rowspan=\"2\" valign=\"top\">3</th>\n      <th>female</th>\n      <td>1</td>\n      <td>de Messemaeker, Mrs. Guillaume Joseph (Emma)</td>\n      <td>63.0</td>\n      <td>8</td>\n      <td>9</td>\n      <td>W./C. 6609</td>\n      <td>69.5500</td>\n    </tr>\n    <tr>\n      <th>male</th>\n      <td>1</td>\n      <td>van Melkebeke, Mr. Philemon</td>\n      <td>74.0</td>\n      <td>8</td>\n      <td>9</td>\n      <td>W./C. 6608</td>\n      <td>69.5500</td>\n    </tr>\n  </tbody>\n</table>\n<p>6 rows × 7 columns</p>\n</div>"
     },
     "execution_count": 96,
     "metadata": {},
     "output_type": "execute_result"
    }
   ],
   "source": [
    "# afficher la ùean en fonction du sex et du pclass\n",
    "# df.groupby(['feature_name1', 'feature_name2']).mean()\n",
    "\n",
    "data.groupby(['pclass' ,'sex']).max()"
   ]
  },
  {
   "cell_type": "code",
   "metadata": {
    "pycharm": {
     "name": "#%%\n"
    }
   },
   "source": [
    "## Utilisation de .nunique () pour compter le nxombre de valeurs uniques qui se produisent dans une base de données ou dans une colonne\n",
    "##Si nous voulons voir le nombre des éléments uniques dans un ensemble de données ou dans une colonne, nous devons utiliser la méthode .nunique ()\n",
    "\n"
   ],
   "execution_count": 97,
   "outputs": [
    {
     "data": {
      "text/plain": "pclass        3\nsurvived      2\n           ... \ncabin       186\nembarked      3\nLength: 11, dtype: int64"
     },
     "execution_count": 97,
     "metadata": {},
     "output_type": "execute_result"
    }
   ]
  },
  {
   "cell_type": "code",
   "execution_count": null,
   "metadata": {},
   "outputs": [],
   "source": [
    "# appliquer la méthode nunique pour toute la base de données\n",
    "data.nunique()"
   ]
  },
  {
   "cell_type": "code",
   "execution_count": 98,
   "metadata": {},
   "outputs": [
    {
     "data": {
      "text/plain": "98"
     },
     "execution_count": 98,
     "metadata": {},
     "output_type": "execute_result"
    }
   ],
   "source": [
    "# Nous pouvons également compter les éléments uniques avec .nunique () pour une colonne (variable)\n",
    "# df['feature_name'].nunuque()\n",
    "data['age'].nunique()"
   ]
  },
  {
   "cell_type": "code",
   "execution_count": null,
   "metadata": {},
   "outputs": [],
   "source": []
  },
  {
   "cell_type": "code",
   "execution_count": 99,
   "metadata": {},
   "outputs": [
    {
     "data": {
      "text/plain": "age       98\nsex        2\npclass     3\ndtype: int64"
     },
     "execution_count": 99,
     "metadata": {},
     "output_type": "execute_result"
    }
   ],
   "source": [
    "# Si vous souhaitez voir le nombre des éléments uniques pour plus d'une colonne, vous devez ajouter une autre parenthèse.\n",
    "# df[['feature_name1','feature_name2', ..., 'feature_name_n']].nunique()\n",
    "\n",
    "data[['age','sex','pclass']].nunique()"
   ]
  },
  {
   "cell_type": "code",
   "execution_count": null,
   "metadata": {},
   "outputs": [],
   "source": []
  },
  {
   "cell_type": "markdown",
   "metadata": {},
   "source": [
    "## Modifier le type d'une variables avec la méthode .astype()\n",
    "Nous avons vérifié les types de données des colonnes dans la base de données Titanic. Nous avons vu que le type de colonne embarked est object. Après avoir compté les valeurs uniques dans embarked colonne avec .unique (), nous pouvons voir qu'il ya 3 valeurs uniques dans cette colonne. On peut donc considérer que le type de données doit être catégorique. Pour changer le type de données de cette colonne, le code ci-dessous doit être exécuté:"
   ]
  },
  {
   "cell_type": "code",
   "execution_count": 103,
   "metadata": {},
   "outputs": [
    {
     "data": {
      "text/plain": "pclass         int64\nsurvived       int64\n              ...   \ncabin         object\nembarked    category\nLength: 11, dtype: object"
     },
     "execution_count": 103,
     "metadata": {},
     "output_type": "execute_result"
    }
   ],
   "source": [
    "# df['feature_name'] =df['feature_name'].astype('type'): type=(int, float, category)\n",
    "# applique astype pour la variable embarked\n",
    "\n",
    "data['embarked'] = data['embarked'].astype('category')\n",
    "data.dtypes"
   ]
  },
  {
   "cell_type": "markdown",
   "metadata": {},
   "source": [
    "## Filtration\n",
    "### Filtrer sous une condition\n",
    "Le signe de comparaison en Python est == (double signe égal). Vous devriez donc vérifier si vous avez utilisé 2 signes égaux. Si vous n'utilisez qu'un seul signe égal, vous risquez de ruiner vos données. Supposons que je veille voir si la colonne embarked est égale à C. La vraie version de la comparaison est:"
   ]
  },
  {
   "cell_type": "code",
   "execution_count": 105,
   "metadata": {},
   "outputs": [
    {
     "data": {
      "text/plain": "0       True\n1       True\n        ... \n1307    True\n1308    True\nName: embarked, Length: 1309, dtype: bool"
     },
     "execution_count": 105,
     "metadata": {},
     "output_type": "execute_result"
    }
   ],
   "source": [
    "data['embarked'] == 'c'"
   ]
  },
  {
   "cell_type": "code",
   "execution_count": null,
   "metadata": {},
   "outputs": [],
   "source": []
  },
  {
   "cell_type": "markdown",
   "metadata": {},
   "source": [
    "# Et si nous ne voulons pas voir uniquement des vrais et des faux? Et si nous voulons voir toutes les informations de ceux dont embarked est C? Pour faire ça:"
   ]
  },
  {
   "cell_type": "code",
   "execution_count": 119,
   "metadata": {},
   "outputs": [
    {
     "data": {
      "text/plain": "0       False\n1       False\n        ...  \n1307     True\n1308    False\nName: embarked, Length: 1309, dtype: bool"
     },
     "execution_count": 119,
     "metadata": {},
     "output_type": "execute_result"
    }
   ],
   "source": [
    "data[data['embarked'] == 'C' ].tail(10)\n"
   ]
  },
  {
   "cell_type": "markdown",
   "metadata": {},
   "source": [
    "Une autre façon de procéder pourrait être avec un masque:"
   ]
  },
  {
   "cell_type": "code",
   "execution_count": 115,
   "metadata": {},
   "outputs": [
    {
     "data": {
      "text/plain": "    pclass  survived                           name     sex   age  sibsp  \\\n9        1         0        Artagaveytia, Mr. Ramon    male  71.0      0   \n10       1         0         Astor, Col. John Jacob    male  47.0      1   \n..     ...       ...                            ...     ...   ...    ...   \n12       1         1  Aubart, Mme. Leontine Pauline  female  24.0      0   \n16       1         0       Baxter, Mr. Quigg Edmond    male  24.0      0   \n\n    parch    ticket      fare    cabin embarked  \n9       0  PC 17609   49.5042      NaN        C  \n10      0  PC 17757  227.5250  C62 C64        C  \n..    ...       ...       ...      ...      ...  \n12      0  PC 17477   69.3000      B35        C  \n16      1  PC 17558  247.5208  B58 B60        C  \n\n[5 rows x 11 columns]",
      "text/html": "<div>\n<style scoped>\n    .dataframe tbody tr th:only-of-type {\n        vertical-align: middle;\n    }\n\n    .dataframe tbody tr th {\n        vertical-align: top;\n    }\n\n    .dataframe thead th {\n        text-align: right;\n    }\n</style>\n<table border=\"1\" class=\"dataframe\">\n  <thead>\n    <tr style=\"text-align: right;\">\n      <th></th>\n      <th>pclass</th>\n      <th>survived</th>\n      <th>name</th>\n      <th>sex</th>\n      <th>age</th>\n      <th>sibsp</th>\n      <th>parch</th>\n      <th>ticket</th>\n      <th>fare</th>\n      <th>cabin</th>\n      <th>embarked</th>\n    </tr>\n  </thead>\n  <tbody>\n    <tr>\n      <th>9</th>\n      <td>1</td>\n      <td>0</td>\n      <td>Artagaveytia, Mr. Ramon</td>\n      <td>male</td>\n      <td>71.0</td>\n      <td>0</td>\n      <td>0</td>\n      <td>PC 17609</td>\n      <td>49.5042</td>\n      <td>NaN</td>\n      <td>C</td>\n    </tr>\n    <tr>\n      <th>10</th>\n      <td>1</td>\n      <td>0</td>\n      <td>Astor, Col. John Jacob</td>\n      <td>male</td>\n      <td>47.0</td>\n      <td>1</td>\n      <td>0</td>\n      <td>PC 17757</td>\n      <td>227.5250</td>\n      <td>C62 C64</td>\n      <td>C</td>\n    </tr>\n    <tr>\n      <th>...</th>\n      <td>...</td>\n      <td>...</td>\n      <td>...</td>\n      <td>...</td>\n      <td>...</td>\n      <td>...</td>\n      <td>...</td>\n      <td>...</td>\n      <td>...</td>\n      <td>...</td>\n      <td>...</td>\n    </tr>\n    <tr>\n      <th>12</th>\n      <td>1</td>\n      <td>1</td>\n      <td>Aubart, Mme. Leontine Pauline</td>\n      <td>female</td>\n      <td>24.0</td>\n      <td>0</td>\n      <td>0</td>\n      <td>PC 17477</td>\n      <td>69.3000</td>\n      <td>B35</td>\n      <td>C</td>\n    </tr>\n    <tr>\n      <th>16</th>\n      <td>1</td>\n      <td>0</td>\n      <td>Baxter, Mr. Quigg Edmond</td>\n      <td>male</td>\n      <td>24.0</td>\n      <td>0</td>\n      <td>1</td>\n      <td>PC 17558</td>\n      <td>247.5208</td>\n      <td>B58 B60</td>\n      <td>C</td>\n    </tr>\n  </tbody>\n</table>\n<p>5 rows × 11 columns</p>\n</div>"
     },
     "execution_count": 115,
     "metadata": {},
     "output_type": "execute_result"
    }
   ],
   "source": [
    "masq_embarked=data['embarked']=='C'\n",
    "data[masq_embarked].head()\n"
   ]
  },
  {
   "cell_type": "markdown",
   "metadata": {},
   "source": [
    "## Filtrage sous deux ou plusieurs conditions\n",
    "### Opérateur AND\n",
    "Nous allons utiliser les opérateurs AND et OR pour filtrer avec plus d'une condition. Supposons que nous souhaitons voir les passagers qui sont des femmes et dont le tarif est inférieur à 100 . Nous allons créer 2 nouveaux masques pour compléter cela"
   ]
  },
  {
   "cell_type": "code",
   "execution_count": 122,
   "metadata": {},
   "outputs": [
    {
     "data": {
      "text/plain": "    pclass  survived                                               name  \\\n6        1         1                  Andrews, Miss. Kornelia Theodosia   \n8        1         1      Appleton, Mrs. Edward Dale (Charlotte Lamson)   \n..     ...       ...                                                ...   \n59       1         1  Cassebeer, Mrs. Henry Arthur Jr (Eleanor Genev...   \n61       1         1  Cavendish, Mrs. Tyrell William (Julia Florence...   \n\n       sex   age  sibsp  parch ticket     fare cabin embarked  \n6   female  63.0      1      0  13502  77.9583    D7        S  \n8   female  53.0      2      0  11769  51.4792  C101        S  \n..     ...   ...    ...    ...    ...      ...   ...      ...  \n59  female   NaN      0      0  17770  27.7208   NaN        C  \n61  female  76.0      1      0  19877  78.8500   C46        S  \n\n[15 rows x 11 columns]",
      "text/html": "<div>\n<style scoped>\n    .dataframe tbody tr th:only-of-type {\n        vertical-align: middle;\n    }\n\n    .dataframe tbody tr th {\n        vertical-align: top;\n    }\n\n    .dataframe thead th {\n        text-align: right;\n    }\n</style>\n<table border=\"1\" class=\"dataframe\">\n  <thead>\n    <tr style=\"text-align: right;\">\n      <th></th>\n      <th>pclass</th>\n      <th>survived</th>\n      <th>name</th>\n      <th>sex</th>\n      <th>age</th>\n      <th>sibsp</th>\n      <th>parch</th>\n      <th>ticket</th>\n      <th>fare</th>\n      <th>cabin</th>\n      <th>embarked</th>\n    </tr>\n  </thead>\n  <tbody>\n    <tr>\n      <th>6</th>\n      <td>1</td>\n      <td>1</td>\n      <td>Andrews, Miss. Kornelia Theodosia</td>\n      <td>female</td>\n      <td>63.0</td>\n      <td>1</td>\n      <td>0</td>\n      <td>13502</td>\n      <td>77.9583</td>\n      <td>D7</td>\n      <td>S</td>\n    </tr>\n    <tr>\n      <th>8</th>\n      <td>1</td>\n      <td>1</td>\n      <td>Appleton, Mrs. Edward Dale (Charlotte Lamson)</td>\n      <td>female</td>\n      <td>53.0</td>\n      <td>2</td>\n      <td>0</td>\n      <td>11769</td>\n      <td>51.4792</td>\n      <td>C101</td>\n      <td>S</td>\n    </tr>\n    <tr>\n      <th>...</th>\n      <td>...</td>\n      <td>...</td>\n      <td>...</td>\n      <td>...</td>\n      <td>...</td>\n      <td>...</td>\n      <td>...</td>\n      <td>...</td>\n      <td>...</td>\n      <td>...</td>\n      <td>...</td>\n    </tr>\n    <tr>\n      <th>59</th>\n      <td>1</td>\n      <td>1</td>\n      <td>Cassebeer, Mrs. Henry Arthur Jr (Eleanor Genev...</td>\n      <td>female</td>\n      <td>NaN</td>\n      <td>0</td>\n      <td>0</td>\n      <td>17770</td>\n      <td>27.7208</td>\n      <td>NaN</td>\n      <td>C</td>\n    </tr>\n    <tr>\n      <th>61</th>\n      <td>1</td>\n      <td>1</td>\n      <td>Cavendish, Mrs. Tyrell William (Julia Florence...</td>\n      <td>female</td>\n      <td>76.0</td>\n      <td>1</td>\n      <td>0</td>\n      <td>19877</td>\n      <td>78.8500</td>\n      <td>C46</td>\n      <td>S</td>\n    </tr>\n  </tbody>\n</table>\n<p>15 rows × 11 columns</p>\n</div>"
     },
     "execution_count": 122,
     "metadata": {},
     "output_type": "execute_result"
    }
   ],
   "source": [
    "sex_masq=data['sex'] == 'female'\n",
    "far_masq=data['fare'] < 100\n",
    "data[sex_masq & far_masq].head(15)\n"
   ]
  },
  {
   "cell_type": "markdown",
   "metadata": {},
   "source": [
    "### Opérateur OR\n",
    "Faisons un autre exemple avec l'opérateur OR. Nous allons utiliser | signe pour le faire. Voyons les passagers dont le tarif est supérieur à 500 ou plus de 70 ans."
   ]
  },
  {
   "cell_type": "code",
   "execution_count": 123,
   "metadata": {},
   "outputs": [
    {
     "data": {
      "text/plain": "      pclass  survived                                  name   sex   age  \\\n9          1         0               Artagaveytia, Mr. Ramon  male  71.0   \n14         1         1  Barkworth, Mr. Algernon Henry Wilson  male  80.0   \n...      ...       ...                                   ...   ...   ...   \n727        3         0                  Connors, Mr. Patrick  male  70.5   \n1235       3         0                   Svensson, Mr. Johan  male  74.0   \n\n      sibsp  parch    ticket     fare cabin embarked  \n9         0      0  PC 17609  49.5042   NaN        C  \n14        0      0     27042  30.0000   A23        S  \n...     ...    ...       ...      ...   ...      ...  \n727       0      0    370369   7.7500   NaN        Q  \n1235      0      0    347060   7.7750   NaN        S  \n\n[10 rows x 11 columns]",
      "text/html": "<div>\n<style scoped>\n    .dataframe tbody tr th:only-of-type {\n        vertical-align: middle;\n    }\n\n    .dataframe tbody tr th {\n        vertical-align: top;\n    }\n\n    .dataframe thead th {\n        text-align: right;\n    }\n</style>\n<table border=\"1\" class=\"dataframe\">\n  <thead>\n    <tr style=\"text-align: right;\">\n      <th></th>\n      <th>pclass</th>\n      <th>survived</th>\n      <th>name</th>\n      <th>sex</th>\n      <th>age</th>\n      <th>sibsp</th>\n      <th>parch</th>\n      <th>ticket</th>\n      <th>fare</th>\n      <th>cabin</th>\n      <th>embarked</th>\n    </tr>\n  </thead>\n  <tbody>\n    <tr>\n      <th>9</th>\n      <td>1</td>\n      <td>0</td>\n      <td>Artagaveytia, Mr. Ramon</td>\n      <td>male</td>\n      <td>71.0</td>\n      <td>0</td>\n      <td>0</td>\n      <td>PC 17609</td>\n      <td>49.5042</td>\n      <td>NaN</td>\n      <td>C</td>\n    </tr>\n    <tr>\n      <th>14</th>\n      <td>1</td>\n      <td>1</td>\n      <td>Barkworth, Mr. Algernon Henry Wilson</td>\n      <td>male</td>\n      <td>80.0</td>\n      <td>0</td>\n      <td>0</td>\n      <td>27042</td>\n      <td>30.0000</td>\n      <td>A23</td>\n      <td>S</td>\n    </tr>\n    <tr>\n      <th>...</th>\n      <td>...</td>\n      <td>...</td>\n      <td>...</td>\n      <td>...</td>\n      <td>...</td>\n      <td>...</td>\n      <td>...</td>\n      <td>...</td>\n      <td>...</td>\n      <td>...</td>\n      <td>...</td>\n    </tr>\n    <tr>\n      <th>727</th>\n      <td>3</td>\n      <td>0</td>\n      <td>Connors, Mr. Patrick</td>\n      <td>male</td>\n      <td>70.5</td>\n      <td>0</td>\n      <td>0</td>\n      <td>370369</td>\n      <td>7.7500</td>\n      <td>NaN</td>\n      <td>Q</td>\n    </tr>\n    <tr>\n      <th>1235</th>\n      <td>3</td>\n      <td>0</td>\n      <td>Svensson, Mr. Johan</td>\n      <td>male</td>\n      <td>74.0</td>\n      <td>0</td>\n      <td>0</td>\n      <td>347060</td>\n      <td>7.7750</td>\n      <td>NaN</td>\n      <td>S</td>\n    </tr>\n  </tbody>\n</table>\n<p>10 rows × 11 columns</p>\n</div>"
     },
     "execution_count": 123,
     "metadata": {},
     "output_type": "execute_result"
    }
   ],
   "source": [
    "fare1_masq=data['fare'] > 500\n",
    "age_masq = data['age'] > 70\n",
    "\n",
    "data[fare1_masq | age_masq].head(15)\n"
   ]
  },
  {
   "cell_type": "markdown",
   "metadata": {},
   "source": [
    "## Recherche des valeurs nulles avec .isnull ()\n",
    "L'un des problèmes les plus courants en science des données concerne les valeurs manquantes. Pour les détecter, il existe une belle méthode qui s'appelle .isnull (). Avec la méthode isnull(), un masque de booléens est retournée, indiquant True pour les observations dont la valeur est NaN ou None :"
   ]
  },
  {
   "cell_type": "code",
   "execution_count": 125,
   "metadata": {},
   "outputs": [
    {
     "data": {
      "text/plain": "      pclass  survived   name    sex    age  sibsp  parch  ticket   fare  \\\n0      False     False  False  False  False  False  False   False  False   \n1      False     False  False  False  False  False  False   False  False   \n...      ...       ...    ...    ...    ...    ...    ...     ...    ...   \n1307   False     False  False  False  False  False  False   False  False   \n1308   False     False  False  False  False  False  False   False  False   \n\n      cabin  embarked  \n0     False     False  \n1     False     False  \n...     ...       ...  \n1307   True     False  \n1308   True     False  \n\n[1309 rows x 11 columns]",
      "text/html": "<div>\n<style scoped>\n    .dataframe tbody tr th:only-of-type {\n        vertical-align: middle;\n    }\n\n    .dataframe tbody tr th {\n        vertical-align: top;\n    }\n\n    .dataframe thead th {\n        text-align: right;\n    }\n</style>\n<table border=\"1\" class=\"dataframe\">\n  <thead>\n    <tr style=\"text-align: right;\">\n      <th></th>\n      <th>pclass</th>\n      <th>survived</th>\n      <th>name</th>\n      <th>sex</th>\n      <th>age</th>\n      <th>sibsp</th>\n      <th>parch</th>\n      <th>ticket</th>\n      <th>fare</th>\n      <th>cabin</th>\n      <th>embarked</th>\n    </tr>\n  </thead>\n  <tbody>\n    <tr>\n      <th>0</th>\n      <td>False</td>\n      <td>False</td>\n      <td>False</td>\n      <td>False</td>\n      <td>False</td>\n      <td>False</td>\n      <td>False</td>\n      <td>False</td>\n      <td>False</td>\n      <td>False</td>\n      <td>False</td>\n    </tr>\n    <tr>\n      <th>1</th>\n      <td>False</td>\n      <td>False</td>\n      <td>False</td>\n      <td>False</td>\n      <td>False</td>\n      <td>False</td>\n      <td>False</td>\n      <td>False</td>\n      <td>False</td>\n      <td>False</td>\n      <td>False</td>\n    </tr>\n    <tr>\n      <th>...</th>\n      <td>...</td>\n      <td>...</td>\n      <td>...</td>\n      <td>...</td>\n      <td>...</td>\n      <td>...</td>\n      <td>...</td>\n      <td>...</td>\n      <td>...</td>\n      <td>...</td>\n      <td>...</td>\n    </tr>\n    <tr>\n      <th>1307</th>\n      <td>False</td>\n      <td>False</td>\n      <td>False</td>\n      <td>False</td>\n      <td>False</td>\n      <td>False</td>\n      <td>False</td>\n      <td>False</td>\n      <td>False</td>\n      <td>True</td>\n      <td>False</td>\n    </tr>\n    <tr>\n      <th>1308</th>\n      <td>False</td>\n      <td>False</td>\n      <td>False</td>\n      <td>False</td>\n      <td>False</td>\n      <td>False</td>\n      <td>False</td>\n      <td>False</td>\n      <td>False</td>\n      <td>True</td>\n      <td>False</td>\n    </tr>\n  </tbody>\n</table>\n<p>1309 rows × 11 columns</p>\n</div>"
     },
     "execution_count": 125,
     "metadata": {},
     "output_type": "execute_result"
    }
   ],
   "source": [
    "data.isnull()\n"
   ]
  },
  {
   "cell_type": "code",
   "execution_count": 133,
   "metadata": {},
   "outputs": [
    {
     "data": {
      "text/plain": "0     False\n1     False\n      ...  \n13    False\n14    False\nName: fare, Length: 15, dtype: bool"
     },
     "execution_count": 133,
     "metadata": {},
     "output_type": "execute_result"
    }
   ],
   "source": [
    "data['fare'].isnull()"
   ]
  },
  {
   "cell_type": "code",
   "execution_count": 126,
   "metadata": {},
   "outputs": [
    {
     "data": {
      "text/plain": "      pclass  survived   name    sex    age  sibsp  parch  ticket   fare  \\\n0      False     False  False  False  False  False  False   False  False   \n1      False     False  False  False  False  False  False   False  False   \n...      ...       ...    ...    ...    ...    ...    ...     ...    ...   \n1307   False     False  False  False  False  False  False   False  False   \n1308   False     False  False  False  False  False  False   False  False   \n\n      cabin  embarked  \n0     False     False  \n1     False     False  \n...     ...       ...  \n1307   True     False  \n1308   True     False  \n\n[1309 rows x 11 columns]",
      "text/html": "<div>\n<style scoped>\n    .dataframe tbody tr th:only-of-type {\n        vertical-align: middle;\n    }\n\n    .dataframe tbody tr th {\n        vertical-align: top;\n    }\n\n    .dataframe thead th {\n        text-align: right;\n    }\n</style>\n<table border=\"1\" class=\"dataframe\">\n  <thead>\n    <tr style=\"text-align: right;\">\n      <th></th>\n      <th>pclass</th>\n      <th>survived</th>\n      <th>name</th>\n      <th>sex</th>\n      <th>age</th>\n      <th>sibsp</th>\n      <th>parch</th>\n      <th>ticket</th>\n      <th>fare</th>\n      <th>cabin</th>\n      <th>embarked</th>\n    </tr>\n  </thead>\n  <tbody>\n    <tr>\n      <th>0</th>\n      <td>False</td>\n      <td>False</td>\n      <td>False</td>\n      <td>False</td>\n      <td>False</td>\n      <td>False</td>\n      <td>False</td>\n      <td>False</td>\n      <td>False</td>\n      <td>False</td>\n      <td>False</td>\n    </tr>\n    <tr>\n      <th>1</th>\n      <td>False</td>\n      <td>False</td>\n      <td>False</td>\n      <td>False</td>\n      <td>False</td>\n      <td>False</td>\n      <td>False</td>\n      <td>False</td>\n      <td>False</td>\n      <td>False</td>\n      <td>False</td>\n    </tr>\n    <tr>\n      <th>...</th>\n      <td>...</td>\n      <td>...</td>\n      <td>...</td>\n      <td>...</td>\n      <td>...</td>\n      <td>...</td>\n      <td>...</td>\n      <td>...</td>\n      <td>...</td>\n      <td>...</td>\n      <td>...</td>\n    </tr>\n    <tr>\n      <th>1307</th>\n      <td>False</td>\n      <td>False</td>\n      <td>False</td>\n      <td>False</td>\n      <td>False</td>\n      <td>False</td>\n      <td>False</td>\n      <td>False</td>\n      <td>False</td>\n      <td>True</td>\n      <td>False</td>\n    </tr>\n    <tr>\n      <th>1308</th>\n      <td>False</td>\n      <td>False</td>\n      <td>False</td>\n      <td>False</td>\n      <td>False</td>\n      <td>False</td>\n      <td>False</td>\n      <td>False</td>\n      <td>False</td>\n      <td>True</td>\n      <td>False</td>\n    </tr>\n  </tbody>\n</table>\n<p>1309 rows × 11 columns</p>\n</div>"
     },
     "execution_count": 126,
     "metadata": {},
     "output_type": "execute_result"
    }
   ],
   "source": [
    "# montre nous les valeurs NaN de la varibale cabin\n",
    "data.isna()"
   ]
  },
  {
   "cell_type": "markdown",
   "metadata": {},
   "source": [
    "Si nous voulons compter les valeurs nulles de toutes les colonnes d'un dataframe, il suffit d'écrire le code ci-dessous"
   ]
  },
  {
   "cell_type": "code",
   "execution_count": 131,
   "metadata": {},
   "outputs": [
    {
     "data": {
      "text/plain": "False    1308\nTrue        1\nName: fare, dtype: int64"
     },
     "execution_count": 131,
     "metadata": {},
     "output_type": "execute_result"
    }
   ],
   "source": [
    "data['fare'].isnull().value_counts()\n",
    "\n"
   ]
  },
  {
   "cell_type": "markdown",
   "metadata": {},
   "source": [
    "##  Nettoyer votre Dataset avec drop(), dropna() et fillna()\n",
    "\n",
    "Il est assez fréquent de récupérer des données incomplètes. La manière dont les données manquantes sont gérées par pandas est le recours aux deux valeurs spéciales : None et NaN.\n",
    "La valeur None peut être utilisée dans les tableaux NumPy uniquement quand le type de ces derniers est object.\n",
    "* Pour supprimer une valeur sur un des axes d’une série ou d’une dataframe, Pandas propose la méthode drop().\n",
    "* La méthode dropna() permet  de retirer les observations disposant de valeurs nulles. \n",
    "* Pour remplacer les valeurs manquantes par d’autres valeurs, on utilise la méthode fillna()."
   ]
  },
  {
   "cell_type": "code",
   "execution_count": 134,
   "metadata": {},
   "outputs": [
    {
     "data": {
      "text/plain": "Index(['pclass', 'survived', 'name', 'sex', 'age', 'sibsp', 'parch', 'ticket',\n       'fare', 'cabin', 'embarked'],\n      dtype='object')"
     },
     "execution_count": 134,
     "metadata": {},
     "output_type": "execute_result"
    }
   ],
   "source": [
    "data.columns"
   ]
  },
  {
   "cell_type": "code",
   "execution_count": 135,
   "metadata": {},
   "outputs": [],
   "source": [
    "data.drop([ 'name', 'sibsp','parch', 'ticket', 'fare', 'cabin', 'embarked'], axis=1, inplace=True)"
   ]
  },
  {
   "cell_type": "code",
   "execution_count": 136,
   "metadata": {},
   "outputs": [
    {
     "data": {
      "text/plain": "    pclass  survived     sex      age\n0        1         1  female  29.0000\n1        1         1    male   0.9167\n..     ...       ...     ...      ...\n3        1         0    male  30.0000\n4        1         0  female  25.0000\n\n[5 rows x 4 columns]",
      "text/html": "<div>\n<style scoped>\n    .dataframe tbody tr th:only-of-type {\n        vertical-align: middle;\n    }\n\n    .dataframe tbody tr th {\n        vertical-align: top;\n    }\n\n    .dataframe thead th {\n        text-align: right;\n    }\n</style>\n<table border=\"1\" class=\"dataframe\">\n  <thead>\n    <tr style=\"text-align: right;\">\n      <th></th>\n      <th>pclass</th>\n      <th>survived</th>\n      <th>sex</th>\n      <th>age</th>\n    </tr>\n  </thead>\n  <tbody>\n    <tr>\n      <th>0</th>\n      <td>1</td>\n      <td>1</td>\n      <td>female</td>\n      <td>29.0000</td>\n    </tr>\n    <tr>\n      <th>1</th>\n      <td>1</td>\n      <td>1</td>\n      <td>male</td>\n      <td>0.9167</td>\n    </tr>\n    <tr>\n      <th>...</th>\n      <td>...</td>\n      <td>...</td>\n      <td>...</td>\n      <td>...</td>\n    </tr>\n    <tr>\n      <th>3</th>\n      <td>1</td>\n      <td>0</td>\n      <td>male</td>\n      <td>30.0000</td>\n    </tr>\n    <tr>\n      <th>4</th>\n      <td>1</td>\n      <td>0</td>\n      <td>female</td>\n      <td>25.0000</td>\n    </tr>\n  </tbody>\n</table>\n<p>5 rows × 4 columns</p>\n</div>"
     },
     "execution_count": 136,
     "metadata": {},
     "output_type": "execute_result"
    }
   ],
   "source": [
    "data.head()"
   ]
  },
  {
   "cell_type": "code",
   "execution_count": 137,
   "metadata": {},
   "outputs": [
    {
     "data": {
      "text/plain": "(1309, 4)"
     },
     "execution_count": 137,
     "metadata": {},
     "output_type": "execute_result"
    }
   ],
   "source": [
    "data.shape"
   ]
  },
  {
   "cell_type": "code",
   "execution_count": 140,
   "metadata": {},
   "outputs": [
    {
     "data": {
      "text/plain": "pclass      0\nsurvived    0\nsex         0\nage         0\ndtype: int64"
     },
     "execution_count": 140,
     "metadata": {},
     "output_type": "execute_result"
    }
   ],
   "source": [
    "data.isnull().sum()"
   ]
  },
  {
   "cell_type": "code",
   "execution_count": 139,
   "metadata": {},
   "outputs": [
    {
     "data": {
      "text/plain": "(1046, 4)"
     },
     "execution_count": 139,
     "metadata": {},
     "output_type": "execute_result"
    }
   ],
   "source": [
    "data = data.dropna()\n",
    "data.shape"
   ]
  },
  {
   "cell_type": "code",
   "execution_count": 141,
   "metadata": {},
   "outputs": [
    {
     "data": {
      "text/plain": "pclass      0\nsurvived    0\nsex         0\nage         0\ndtype: int64"
     },
     "execution_count": 141,
     "metadata": {},
     "output_type": "execute_result"
    }
   ],
   "source": [
    "data.isnull().sum()"
   ]
  },
  {
   "cell_type": "code",
   "execution_count": null,
   "metadata": {},
   "outputs": [],
   "source": []
  },
  {
   "cell_type": "code",
   "execution_count": null,
   "metadata": {},
   "outputs": [],
   "source": []
  },
  {
   "cell_type": "code",
   "execution_count": null,
   "metadata": {},
   "outputs": [],
   "source": []
  },
  {
   "cell_type": "code",
   "execution_count": null,
   "metadata": {},
   "outputs": [],
   "source": []
  }
 ],
 "metadata": {
  "ipub": {
   "sphinx": {
    "toggle_input": true,
    "toggle_input_all": true,
    "toggle_output": true,
    "toggle_output_all": true
   }
  },
  "kernelspec": {
   "display_name": "Python 3",
   "language": "python",
   "name": "python3"
  },
  "language_info": {
   "codemirror_mode": {
    "name": "ipython",
    "version": 3
   },
   "file_extension": ".py",
   "mimetype": "text/x-python",
   "name": "python",
   "nbconvert_exporter": "python",
   "pygments_lexer": "ipython3",
   "version": "3.7.3"
  },
  "livereveal": {
   "auto_select": "code",
   "auto_select_fragment": true,
   "autolaunch": false,
   "backimage": "media/nologo.png",
   "height": "100%",
   "start_slideshow_at": "selected",
   "theme": "simple",
   "transition": "fade",
   "width": "100%"
  },
  "notebookname": "Data Science",
  "version": "3.0"
 },
 "nbformat": 4,
 "nbformat_minor": 4
}